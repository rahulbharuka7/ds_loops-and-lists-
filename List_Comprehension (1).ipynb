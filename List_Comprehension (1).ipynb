{
  "cells": [
    {
      "cell_type": "markdown",
      "id": "0f9c749c-52c9-4567-863d-b1965cfe0965",
      "metadata": {
        "id": "0f9c749c-52c9-4567-863d-b1965cfe0965"
      },
      "source": [
        "# List Comprehension"
      ]
    },
    {
      "cell_type": "code",
      "execution_count": null,
      "id": "dcf858fb-8046-49f6-971f-a254a75a0c9e",
      "metadata": {
        "id": "dcf858fb-8046-49f6-971f-a254a75a0c9e"
      },
      "outputs": [],
      "source": [
        "# Assignment 1:\n",
        "# Create a list of all numbers from 1 to 100 that are divisible by both 3 and 5\n",
        "# Expected: [15, 30, 45, ..., 90]"
      ]
    },
    {
      "cell_type": "code",
      "execution_count": null,
      "id": "f042d61c",
      "metadata": {
        "id": "f042d61c",
        "outputId": "25322740-a815-49b4-dc8b-3b410cdc154d"
      },
      "outputs": [
        {
          "data": {
            "text/plain": [
              "[15, 30, 45, 60, 75, 90]"
            ]
          },
          "execution_count": 16,
          "metadata": {},
          "output_type": "execute_result"
        }
      ],
      "source": [
        "[i for i in range(1,101) if i%3==0 and i%5==0]"
      ]
    },
    {
      "cell_type": "code",
      "execution_count": null,
      "id": "0e54f822-1389-49ec-ab6c-ef178352c4ab",
      "metadata": {
        "id": "0e54f822-1389-49ec-ab6c-ef178352c4ab",
        "outputId": "93c825be-1913-4110-c085-8a66e09ba970"
      },
      "outputs": [
        {
          "name": "stdout",
          "output_type": "stream",
          "text": [
            "['L', 's', 't', ' ', 'c', 'm', 'p', 'r', 'h', 'n', 's', 'n', ' ', 'm', 'k', 's', ' ', 'l', 'f', ' ', 's', 'r']\n"
          ]
        }
      ],
      "source": [
        "# Assignment 2:\n",
        "# Remove all vowels from a given sentence using list comprehension\n",
        "sentence = \"List comprehension makes life easier\"\n",
        "vowels = \"aeiouAEIOU\"\n",
        "str=''\n",
        "vow = list(vowels)\n",
        "str = [i for i in sentence if i not in vow]\n",
        "print(str)"
      ]
    },
    {
      "cell_type": "code",
      "execution_count": null,
      "id": "a48a6aed-feac-4283-a90d-86070c19ddb8",
      "metadata": {
        "id": "a48a6aed-feac-4283-a90d-86070c19ddb8",
        "outputId": "04a5cc34-b3e0-44bb-c400-1a03330d2ca8"
      },
      "outputs": [
        {
          "data": {
            "text/plain": [
              "[[1, 0, 0], [0, 1, 0], [0, 0, 1]]"
            ]
          },
          "execution_count": 21,
          "metadata": {},
          "output_type": "execute_result"
        }
      ],
      "source": [
        "# Assignment 3:\n",
        "# Create a 3x3 identity matrix using list comprehension\n",
        "\n",
        "[[1 if i==j else 0 for j in range(1,4)]for i in range(1,4)]"
      ]
    },
    {
      "cell_type": "code",
      "execution_count": null,
      "id": "481ccaf6-9d82-42ba-bac8-b043c3c5ae50",
      "metadata": {
        "id": "481ccaf6-9d82-42ba-bac8-b043c3c5ae50",
        "outputId": "9606c444-4a3b-47ee-927e-25cc95d0a469"
      },
      "outputs": [
        {
          "data": {
            "text/plain": [
              "[[2, 4, 6, 8]]"
            ]
          },
          "execution_count": 23,
          "metadata": {},
          "output_type": "execute_result"
        }
      ],
      "source": [
        "# Assignment 4:\n",
        "# From a nested list of integers, flatten and filter out only even numbers\n",
        "nested = [[1,2,3],[4,5,6],[7,8,9]]\n",
        "\n",
        "[[j for i in nested for j in i if j%2==0]]"
      ]
    },
    {
      "cell_type": "code",
      "execution_count": null,
      "id": "f8694b25-93b4-4897-80d4-7b030e69d669",
      "metadata": {
        "id": "f8694b25-93b4-4897-80d4-7b030e69d669"
      },
      "outputs": [],
      "source": [
        "#5. Extract all integers from a nested list of mixed types (str, list, int)\n",
        "data = [1, 'a', [2, 'b', [3, 'c'], 4], 'd', [5, 6]]\n"
      ]
    },
    {
      "cell_type": "code",
      "execution_count": null,
      "id": "d693f789-de64-4e99-b501-f5f0cdc417ea",
      "metadata": {
        "id": "d693f789-de64-4e99-b501-f5f0cdc417ea"
      },
      "outputs": [],
      "source": [
        "# 6. Deep flattening a list\n",
        "\n",
        "nested_deep = [1, [2, [3, [4, 5]], 6], 7]\n"
      ]
    },
    {
      "cell_type": "code",
      "execution_count": null,
      "id": "2103fcdd-57b3-4d06-b8b8-fc71c9188213",
      "metadata": {
        "id": "2103fcdd-57b3-4d06-b8b8-fc71c9188213",
        "outputId": "de02e1a9-d095-47a7-e108-aec72c2cab59"
      },
      "outputs": [
        {
          "data": {
            "text/plain": [
              "[[-1, 2, -1, 4, -1, 6, -1, 8, -1]]"
            ]
          },
          "execution_count": 34,
          "metadata": {},
          "output_type": "execute_result"
        }
      ],
      "source": [
        "# 7. Replace all odd numbers in a matrix with -1 using nested list comprehension\n",
        "matrix = [[1, 2, 3], [4, 5, 6], [7, 8, 9]]\n",
        "\n",
        "[[-1 if j%2!=0 else j for i in nested for j in i ]]"
      ]
    },
    {
      "cell_type": "code",
      "execution_count": null,
      "id": "4a6a4189-bbaa-461e-bf31-f479631ce379",
      "metadata": {
        "id": "4a6a4189-bbaa-461e-bf31-f479631ce379",
        "outputId": "b912eeed-b186-4995-9168-cb78d8c05ea8"
      },
      "outputs": [
        {
          "data": {
            "text/plain": [
              "[[0, 1, 2, 3, 4],\n",
              " [1, 2, 3, 4, 5],\n",
              " [2, 3, 4, 5, 6],\n",
              " [3, 4, 5, 6, 7],\n",
              " [4, 5, 6, 7, 8]]"
            ]
          },
          "execution_count": 35,
          "metadata": {},
          "output_type": "execute_result"
        }
      ],
      "source": [
        "# 8. Generate a 5x5 matrix with values as the sum of row and column indices\n",
        "\n",
        "[[i+j for j in range(0,5)]for i in range(0,5)]"
      ]
    },
    {
      "cell_type": "code",
      "execution_count": null,
      "id": "3319249f-c087-4fe8-b8ff-01e1e09c26b3",
      "metadata": {
        "id": "3319249f-c087-4fe8-b8ff-01e1e09c26b3"
      },
      "outputs": [],
      "source": []
    }
  ],
  "metadata": {
    "kernelspec": {
      "display_name": "base",
      "language": "python",
      "name": "python3"
    },
    "language_info": {
      "codemirror_mode": {
        "name": "ipython",
        "version": 3
      },
      "file_extension": ".py",
      "mimetype": "text/x-python",
      "name": "python",
      "nbconvert_exporter": "python",
      "pygments_lexer": "ipython3",
      "version": "3.12.7"
    },
    "colab": {
      "provenance": []
    }
  },
  "nbformat": 4,
  "nbformat_minor": 5
}