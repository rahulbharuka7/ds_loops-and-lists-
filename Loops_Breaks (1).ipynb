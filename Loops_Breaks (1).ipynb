{
  "cells": [
    {
      "cell_type": "markdown",
      "id": "df546cd5-9d31-4d11-85d1-e4accc631469",
      "metadata": {
        "id": "df546cd5-9d31-4d11-85d1-e4accc631469"
      },
      "source": [
        "# Loops Pracitce assignment solution"
      ]
    },
    {
      "cell_type": "markdown",
      "id": "f5e7855b-8d09-46b8-94e2-9395df500787",
      "metadata": {
        "id": "f5e7855b-8d09-46b8-94e2-9395df500787"
      },
      "source": [
        "**Question 1: ATM PIN**\n",
        "\n",
        "You're building a basic ATM security system. When a user inserts their ATM card, they are asked to enter a 4-digit PIN. The user gets only **3 chances** to enter the correct PIN.\n",
        "\n",
        "1. If the correct PIN is entered, print \"Access Granted.\"\n",
        "\n",
        "2. If the user enters the wrong PIN 3 times in a row, print \"Card Blocked.\"\n",
        "\n",
        "Write a program using a loop to simulate this behavior. **Use the correct PIN as \"1234\" for now.**"
      ]
    },
    {
      "cell_type": "code",
      "execution_count": null,
      "id": "8205332f-255b-49dd-a206-bfab92b2dff6",
      "metadata": {
        "id": "8205332f-255b-49dd-a206-bfab92b2dff6",
        "outputId": "d95e60ab-5703-49a1-b8bf-15b5e36b2133"
      },
      "outputs": [
        {
          "name": "stdin",
          "output_type": "stream",
          "text": [
            "Enter ATM Pin:  1234\n"
          ]
        },
        {
          "name": "stdout",
          "output_type": "stream",
          "text": [
            "Access Granted\n"
          ]
        }
      ],
      "source": [
        "attempt=1\n",
        "while attempt<=3:\n",
        "    pin=int(input(\"Enter ATM Pin: \"))\n",
        "    if pin==1234:\n",
        "        print(\"Access Granted\")\n",
        "        break\n",
        "    else:\n",
        "        print(f\"Wrong Password. You have tried {attempt} of {3} attempts\")\n",
        "        attempt+=1\n",
        "else:\n",
        "        print(\"Card Blocked\")"
      ]
    },
    {
      "cell_type": "markdown",
      "id": "1e76fb3a-5415-4df0-83c2-a2374f13bc41",
      "metadata": {
        "id": "1e76fb3a-5415-4df0-83c2-a2374f13bc41"
      },
      "source": [
        "**Question 2: Reverse a Number**\n",
        "\n",
        "Ask the user to enter an integer number. Your task is to **reverse the digits** of that number and display the reversed number.\n",
        "\n",
        "**Example:**\n",
        "\n",
        "1. If the user enters 1234, your program should print 4321.\n",
        "2. If they enter 5080, it should print 805."
      ]
    },
    {
      "cell_type": "code",
      "execution_count": null,
      "id": "c3acc850-17bd-4e63-ad83-b361b47150d4",
      "metadata": {
        "id": "c3acc850-17bd-4e63-ad83-b361b47150d4",
        "outputId": "4f9f66be-8f81-4a00-a163-51e1f9633466"
      },
      "outputs": [
        {
          "name": "stdin",
          "output_type": "stream",
          "text": [
            "Enter a Number:  9080\n"
          ]
        },
        {
          "name": "stdout",
          "output_type": "stream",
          "text": [
            "809\n"
          ]
        }
      ],
      "source": [
        "num = int(input(\"Enter a Number: \"))\n",
        "reversed_num = 0\n",
        "while num>0:\n",
        "    rem = num%10\n",
        "    reversed_num = reversed_num*10+rem\n",
        "    num = num//10\n",
        "print(reversed_num)"
      ]
    },
    {
      "cell_type": "markdown",
      "id": "59b2a1ac-7e0b-4d06-bf22-6099c5382872",
      "metadata": {
        "id": "59b2a1ac-7e0b-4d06-bf22-6099c5382872"
      },
      "source": [
        "**Question 3: Prison Cell**\n",
        "\n",
        "There are 100 prison cells, all initially **closed (locked)**. There are also 100 prisoners, each assigned a unique number from 1 to 100.\n",
        "\n",
        "They play a strange game with the doors:\n",
        "\n",
        "1. Prisoner 1 toggles every door (opens them all).\n",
        "\n",
        "2. Prisoner 2 toggles every 2nd door (i.e., 2, 4, 6, ...).\n",
        "\n",
        "3. Prisoner 3 toggles every 3rd door (3, 6, 9, ...).\n",
        "\n",
        "...\n",
        "\n",
        "100. Prisoner 100 toggles every 100th door (just door 100).\n",
        "\n",
        "**Toggle means:**\n",
        "\n",
        "1. If the door is closed, it becomes open.\n",
        "\n",
        "2. If the door is open, it becomes closed.\n",
        "\n",
        "After all 100 prisoners have taken their turn,\n",
        "\n",
        "**Which doors will remain open?**"
      ]
    },
    {
      "cell_type": "code",
      "execution_count": null,
      "id": "58e9aeaa-fd05-458d-bb34-40b462df0827",
      "metadata": {
        "id": "58e9aeaa-fd05-458d-bb34-40b462df0827",
        "outputId": "c4ad137c-d021-44d3-ea45-8fc7372cfb13"
      },
      "outputs": [
        {
          "name": "stdout",
          "output_type": "stream",
          "text": [
            "[1, 4, 9, 16, 25, 36, 49, 64, 81, 100]\n"
          ]
        }
      ],
      "source": [
        "cells = [False]*101\n",
        "for prisoner in range(1,101):\n",
        "    for door in range(prisoner,101,prisoner):\n",
        "        cells[door] = not cells[door]\n",
        "open_cells=[]\n",
        "for i in range(1,101):\n",
        "    if cells[i]==True:\n",
        "        open_cells.append(i)\n",
        "print(open_cells)"
      ]
    },
    {
      "cell_type": "code",
      "execution_count": null,
      "id": "cafad1ea-9da5-4caa-a569-c54f43da9bb6",
      "metadata": {
        "id": "cafad1ea-9da5-4caa-a569-c54f43da9bb6"
      },
      "outputs": [],
      "source": []
    },
    {
      "cell_type": "markdown",
      "id": "4431b408-2578-4a7e-baf7-c5aea51210c5",
      "metadata": {
        "id": "4431b408-2578-4a7e-baf7-c5aea51210c5"
      },
      "source": [
        "**Question 4: Count Digits in a Number**\n",
        "\n",
        "Take an integer from the user and count how many digits it has"
      ]
    },
    {
      "cell_type": "code",
      "execution_count": null,
      "id": "6e3f58e3-813b-43e7-9e9c-f721bd1aaeff",
      "metadata": {
        "id": "6e3f58e3-813b-43e7-9e9c-f721bd1aaeff",
        "outputId": "4d9c8910-2889-49d3-e3d2-cf2ab07686da"
      },
      "outputs": [
        {
          "name": "stdin",
          "output_type": "stream",
          "text": [
            "Enter a Number:  987323\n"
          ]
        },
        {
          "name": "stdout",
          "output_type": "stream",
          "text": [
            "Total digits in number is 6\n"
          ]
        }
      ],
      "source": [
        "num = int(input(\"Enter a Number: \"))\n",
        "count=0\n",
        "while num>0:\n",
        "    num=num//10\n",
        "    count+=1\n",
        "print(f\"Total digits in number is {count}\")"
      ]
    },
    {
      "cell_type": "code",
      "execution_count": null,
      "id": "1813f2ba-ca99-42e0-a81e-54d453b62297",
      "metadata": {
        "id": "1813f2ba-ca99-42e0-a81e-54d453b62297"
      },
      "outputs": [],
      "source": []
    },
    {
      "cell_type": "markdown",
      "id": "44bd0745-e75e-4666-a313-634d47a786d6",
      "metadata": {
        "id": "44bd0745-e75e-4666-a313-634d47a786d6"
      },
      "source": [
        "**Question 5: Take a number from the user and calculate its factorial using a for loop.**\n",
        "\n",
        "Factorial of n is: n * (n-1) * (n-2) * ... * 1"
      ]
    },
    {
      "cell_type": "code",
      "execution_count": null,
      "id": "65547574-299f-41cd-81f3-664a2f9efe56",
      "metadata": {
        "id": "65547574-299f-41cd-81f3-664a2f9efe56",
        "outputId": "0cac4bb9-4797-49e8-d6ab-ebc404303c19"
      },
      "outputs": [
        {
          "name": "stdin",
          "output_type": "stream",
          "text": [
            "Enter a Number:  6\n"
          ]
        },
        {
          "name": "stdout",
          "output_type": "stream",
          "text": [
            "The factorial is 720\n"
          ]
        }
      ],
      "source": [
        "fact = int(input(\"Enter a Number: \"))\n",
        "total=1\n",
        "while fact>0:\n",
        "    total = total*fact\n",
        "    fact-=1\n",
        "print(f\"The factorial is {total}\")"
      ]
    },
    {
      "cell_type": "markdown",
      "id": "2acf198c-b3f8-4166-a69c-08a42b13d844",
      "metadata": {
        "id": "2acf198c-b3f8-4166-a69c-08a42b13d844"
      },
      "source": [
        "**Question 6: Find the Greatest Digit in a Number**\n",
        "\n",
        "Take an integer input and find the largest digit in it.\n",
        "\n",
        "Example: 59281 → output: 9"
      ]
    },
    {
      "cell_type": "code",
      "execution_count": null,
      "id": "b38a5f1a-1f89-4f58-9dfd-7d9e45dc684a",
      "metadata": {
        "id": "b38a5f1a-1f89-4f58-9dfd-7d9e45dc684a",
        "outputId": "eb499762-5fc4-468f-b552-6ce7706b0c0f"
      },
      "outputs": [
        {
          "name": "stdin",
          "output_type": "stream",
          "text": [
            "Enter a Number:  345654\n"
          ]
        },
        {
          "name": "stdout",
          "output_type": "stream",
          "text": [
            "6\n"
          ]
        }
      ],
      "source": [
        "num = int(input(\"Enter a Number: \"))\n",
        "greatest=0\n",
        "rem=0\n",
        "while num>0:\n",
        "    num=num//10\n",
        "    rem = num%10\n",
        "    if rem > greatest:\n",
        "        greatest = rem\n",
        "print(greatest)"
      ]
    },
    {
      "cell_type": "code",
      "execution_count": null,
      "id": "556dba7f-4ab3-4930-9677-4f2b2e7bab07",
      "metadata": {
        "id": "556dba7f-4ab3-4930-9677-4f2b2e7bab07"
      },
      "outputs": [],
      "source": []
    },
    {
      "cell_type": "markdown",
      "id": "56f3c0c9-1d1f-437e-87ab-29080dec5d0d",
      "metadata": {
        "id": "56f3c0c9-1d1f-437e-87ab-29080dec5d0d"
      },
      "source": [
        "**Question 7: Check if Number is Palindrome**\n",
        "\n",
        "A number is a palindrome if it reads the same forward and backward.\n",
        "\n",
        "Example: 121, 444, 9889 → Palindrome\n",
        "\n",
        "Ask user to input a number and check if it's a palindrome.\n"
      ]
    },
    {
      "cell_type": "code",
      "execution_count": null,
      "id": "5acd868c-9250-4e4c-ae2a-7f1e694eed86",
      "metadata": {
        "id": "5acd868c-9250-4e4c-ae2a-7f1e694eed86",
        "outputId": "cd23a0f9-e311-422e-fd77-73fb128df900"
      },
      "outputs": [
        {
          "name": "stdin",
          "output_type": "stream",
          "text": [
            "Enter a Number:  010\n"
          ]
        },
        {
          "name": "stdout",
          "output_type": "stream",
          "text": [
            "It is a Palindrome\n"
          ]
        }
      ],
      "source": [
        "num = input(\"Enter a Number: \")\n",
        "reverse=''\n",
        "for i in num[::-1]:\n",
        "    reverse = reverse+i\n",
        "if reverse==num:\n",
        "    print(f\"It is a Palindrome\")\n",
        "else:\n",
        "    print(f\"It is not a Palindrome\")"
      ]
    },
    {
      "cell_type": "code",
      "execution_count": null,
      "id": "792cda7d-7494-49d4-b400-66896cf5ed08",
      "metadata": {
        "id": "792cda7d-7494-49d4-b400-66896cf5ed08"
      },
      "outputs": [],
      "source": []
    },
    {
      "cell_type": "markdown",
      "id": "184a440e-96ed-4ea3-92d5-2821e5437138",
      "metadata": {
        "id": "184a440e-96ed-4ea3-92d5-2821e5437138"
      },
      "source": [
        "**Question 8: Count Even and Odd Digits**\n",
        "\n",
        "Ask the user for a number and count how many even and odd digits it has."
      ]
    },
    {
      "cell_type": "code",
      "execution_count": null,
      "id": "7629e3a7-1f32-467a-bba2-74309d0f0996",
      "metadata": {
        "id": "7629e3a7-1f32-467a-bba2-74309d0f0996",
        "outputId": "5bf6b4b2-c012-4dc6-ab0c-559a2ebfea8f"
      },
      "outputs": [
        {
          "name": "stdin",
          "output_type": "stream",
          "text": [
            "Enter a Number:  1234\n"
          ]
        },
        {
          "name": "stdout",
          "output_type": "stream",
          "text": [
            "Odd digits are 2 and Even digits are 2\n"
          ]
        }
      ],
      "source": [
        "num = int(input(\"Enter a Number: \"))\n",
        "odd = 0\n",
        "even = 0\n",
        "rem=0\n",
        "if num==0:\n",
        "    even=1\n",
        "else:\n",
        "    while num>0:\n",
        "        num = num//10\n",
        "        rem = num%10\n",
        "        if rem%2==0:\n",
        "            even+=1\n",
        "        else:\n",
        "            odd+=1\n",
        "print(f\"Odd digits are {odd} and Even digits are {even}\")"
      ]
    },
    {
      "cell_type": "markdown",
      "id": "e3b9fe26-94ef-412c-9d26-8f4e3731a0df",
      "metadata": {
        "id": "e3b9fe26-94ef-412c-9d26-8f4e3731a0df"
      },
      "source": [
        "# Break and Continue"
      ]
    },
    {
      "cell_type": "markdown",
      "id": "05eb9d4f-d706-4834-adeb-b36ea97512e4",
      "metadata": {
        "id": "05eb9d4f-d706-4834-adeb-b36ea97512e4"
      },
      "source": [
        "**Loops (for, while)** run code repeatedly, but sometimes you want to:\n",
        "\n",
        "1. Exit early → use break\n",
        "\n",
        "2. Skip certain steps → use continue\n",
        "\n",
        "**These are known as loop control statements.**\n"
      ]
    },
    {
      "cell_type": "markdown",
      "id": "095284e0-4cf4-40e3-a13c-c6d9ffaf0cdd",
      "metadata": {
        "id": "095284e0-4cf4-40e3-a13c-c6d9ffaf0cdd"
      },
      "source": [
        "**1. break Statement — Exit the Loop**\n",
        "\n",
        "**What It Does:**\n",
        "\n",
        "break stops the loop immediately, no matter what the loop condition is.\n",
        "\n",
        "**The control jumps outside the loop.**"
      ]
    },
    {
      "cell_type": "code",
      "execution_count": null,
      "id": "322b069f-86ad-43f9-87a8-26aa5988d968",
      "metadata": {
        "id": "322b069f-86ad-43f9-87a8-26aa5988d968"
      },
      "outputs": [],
      "source": [
        "[Loop Start]\n",
        "     ↓\n",
        "[Check Condition]\n",
        "     ↓\n",
        "[Is 'break' triggered?] -- Yes --> [Exit loop immediately]\n",
        "     ↓ No\n",
        "[Do rest of loop]\n",
        "     ↓\n",
        "[Next iteration]\n"
      ]
    },
    {
      "cell_type": "markdown",
      "id": "966945a9-09c4-40c0-b9ef-332397b37682",
      "metadata": {
        "id": "966945a9-09c4-40c0-b9ef-332397b37682"
      },
      "source": [
        "**Example: Stop when 5 is found**"
      ]
    },
    {
      "cell_type": "code",
      "execution_count": null,
      "id": "193fdc16-64ed-4f5a-a828-047334c0a808",
      "metadata": {
        "id": "193fdc16-64ed-4f5a-a828-047334c0a808",
        "outputId": "3ae1ac06-6391-4f5f-a17c-e7ffba0b7c87"
      },
      "outputs": [
        {
          "name": "stdout",
          "output_type": "stream",
          "text": [
            "Current number: 1\n",
            "Current number: 2\n",
            "Current number: 3\n",
            "Current number: 4\n",
            "Found 5! Breaking the loop.\n"
          ]
        }
      ],
      "source": [
        "for i in range(1, 10):\n",
        "    if i == 5:\n",
        "        print(\"Found 5! Breaking the loop.\")\n",
        "        break\n",
        "    print(\"Current number:\", i)\n"
      ]
    },
    {
      "cell_type": "markdown",
      "id": "14bee68a-52e1-415f-ba48-4833fade4829",
      "metadata": {
        "id": "14bee68a-52e1-415f-ba48-4833fade4829"
      },
      "source": [
        "**Use Case:**\n",
        "\n",
        "1. Stop searching in a list as soon as you find what you're looking for.\n",
        "\n",
        "2. Exit early if an error or threshold is hit.\n"
      ]
    },
    {
      "cell_type": "markdown",
      "id": "25b5b67c-1d3d-458c-bfdc-951c9ef0f7d3",
      "metadata": {
        "id": "25b5b67c-1d3d-458c-bfdc-951c9ef0f7d3"
      },
      "source": [
        "**2. continue Statement — Skip & Move On**\n",
        "\n",
        "**What It Does:**\n",
        "    \n",
        "continue skips the rest of the code inside the loop for the current iteration.\n",
        "\n",
        "Then it moves directly to the next iteration."
      ]
    },
    {
      "cell_type": "code",
      "execution_count": null,
      "id": "0690449b-0126-4701-958b-85830b072c51",
      "metadata": {
        "id": "0690449b-0126-4701-958b-85830b072c51"
      },
      "outputs": [],
      "source": [
        "[Loop Start]\n",
        "     ↓\n",
        "[Check Condition]\n",
        "     ↓\n",
        "[Is 'continue' triggered?] -- Yes --> [Skip rest → Next iteration]\n",
        "     ↓ No\n",
        "[Do rest of loop]\n",
        "     ↓\n",
        "[Next iteration]\n"
      ]
    },
    {
      "cell_type": "markdown",
      "id": "63d4ca35-8afd-4947-8021-a2952b1ab851",
      "metadata": {
        "id": "63d4ca35-8afd-4947-8021-a2952b1ab851"
      },
      "source": [
        "**Example: Skip even numbers**"
      ]
    },
    {
      "cell_type": "code",
      "execution_count": null,
      "id": "1c938940-b6dd-4116-8da2-102bdb9219b5",
      "metadata": {
        "id": "1c938940-b6dd-4116-8da2-102bdb9219b5",
        "outputId": "e10ce124-d843-45d4-9f55-bba33e047d7b"
      },
      "outputs": [
        {
          "name": "stdout",
          "output_type": "stream",
          "text": [
            "Odd number: 1\n",
            "Odd number: 3\n",
            "Odd number: 5\n"
          ]
        }
      ],
      "source": [
        "for i in range(1, 6):\n",
        "    if i % 2 == 0:\n",
        "        continue  # Skip even numbers\n",
        "    print(\"Odd number:\", i)"
      ]
    },
    {
      "cell_type": "code",
      "execution_count": null,
      "id": "b9027513-216d-46c5-bdc7-998ba7b78310",
      "metadata": {
        "id": "b9027513-216d-46c5-bdc7-998ba7b78310"
      },
      "outputs": [],
      "source": []
    },
    {
      "cell_type": "markdown",
      "id": "ad72b402-23cc-4a0b-82fb-31ea41e0fc7f",
      "metadata": {
        "id": "ad72b402-23cc-4a0b-82fb-31ea41e0fc7f"
      },
      "source": [
        "**Question 1** Ask the user to enter 10 numbers one by one.\n",
        "\n",
        "As soon as the user enters a negative number, **stop the loop and print \"Stopped at negative input.\"**"
      ]
    },
    {
      "cell_type": "code",
      "execution_count": null,
      "id": "a815f163-0cc0-43d6-80a0-dfdffd51a151",
      "metadata": {
        "id": "a815f163-0cc0-43d6-80a0-dfdffd51a151"
      },
      "outputs": [],
      "source": [
        "num=int(input(\"Enter a Number\"))\n",
        "\n",
        "print(\"User Entered the Number:\",num)"
      ]
    },
    {
      "cell_type": "code",
      "execution_count": null,
      "id": "e97b18e1-de57-44d4-829b-50d8dbfe3617",
      "metadata": {
        "id": "e97b18e1-de57-44d4-829b-50d8dbfe3617",
        "outputId": "0ab337b7-0bdd-4764-e65f-4c6c3a13af90"
      },
      "outputs": [
        {
          "name": "stdin",
          "output_type": "stream",
          "text": [
            "Enter a number:  3\n",
            "Enter a number:  4\n",
            "Enter a number:  4\n",
            "Enter a number:  3\n",
            "Enter a number:  2\n",
            "Enter a number:  -2\n"
          ]
        },
        {
          "name": "stdout",
          "output_type": "stream",
          "text": [
            "Stopped at negative number\n"
          ]
        }
      ],
      "source": [
        "count=0\n",
        "while count<10:\n",
        "    a = int(input(\"Enter a number: \"))\n",
        "    count+=1\n",
        "    if a<0:\n",
        "        print(\"Stopped at negative number\")\n",
        "        break"
      ]
    },
    {
      "cell_type": "code",
      "execution_count": null,
      "id": "194c2e47-980c-48b6-8583-175060de99b3",
      "metadata": {
        "id": "194c2e47-980c-48b6-8583-175060de99b3"
      },
      "outputs": [],
      "source": []
    },
    {
      "cell_type": "code",
      "execution_count": null,
      "id": "45191fb7-1f50-4106-85e4-5a07ad735c3d",
      "metadata": {
        "id": "45191fb7-1f50-4106-85e4-5a07ad735c3d"
      },
      "outputs": [],
      "source": []
    },
    {
      "cell_type": "markdown",
      "id": "16102752-f813-4f0e-8044-d763ad9108d0",
      "metadata": {
        "id": "16102752-f813-4f0e-8044-d763ad9108d0"
      },
      "source": [
        "**Question 2:** Ask the user to enter a word.\n",
        "\n",
        "Print each character except vowels"
      ]
    },
    {
      "cell_type": "code",
      "execution_count": null,
      "id": "cd622afa-9049-4551-9e31-64f2fb1bad79",
      "metadata": {
        "id": "cd622afa-9049-4551-9e31-64f2fb1bad79",
        "outputId": "c7655c08-0054-4bcb-ccca-cd4697401fc4"
      },
      "outputs": [
        {
          "name": "stdin",
          "output_type": "stream",
          "text": [
            "Enter a String:  KSIDBKKSJJsjhjsblsoiaa\n"
          ]
        },
        {
          "name": "stdout",
          "output_type": "stream",
          "text": [
            "k\n",
            "s\n",
            "d\n",
            "b\n",
            "k\n",
            "k\n",
            "s\n",
            "j\n",
            "j\n",
            "s\n",
            "j\n",
            "h\n",
            "j\n",
            "s\n",
            "b\n",
            "l\n",
            "s\n"
          ]
        }
      ],
      "source": [
        "string = input(\"Enter a String: \")\n",
        "for i in string.lower():\n",
        "    if (i=='a') or (i=='e') or (i=='i') or (i=='o') or (i=='u'):\n",
        "        continue\n",
        "    else:\n",
        "        print(i)"
      ]
    },
    {
      "cell_type": "markdown",
      "id": "934dcad8-8e49-4357-8bf4-3f0e7fe066ad",
      "metadata": {
        "id": "934dcad8-8e49-4357-8bf4-3f0e7fe066ad"
      },
      "source": [
        "**Question 3:** Skip Even, Stop on 13\n",
        "\n",
        "1. Print numbers from 1 to 50.\n",
        "\n",
        "2. Skip even numbers\n",
        "\n",
        "3. Stop completely if number 13 is reached"
      ]
    },
    {
      "cell_type": "code",
      "execution_count": null,
      "id": "2d417607-db67-432c-bb58-89599c6ada2a",
      "metadata": {
        "id": "2d417607-db67-432c-bb58-89599c6ada2a",
        "outputId": "4ce036ae-6874-41c4-f219-97f76b4e3e5f"
      },
      "outputs": [
        {
          "name": "stdout",
          "output_type": "stream",
          "text": [
            "1\n",
            "3\n",
            "5\n",
            "7\n",
            "9\n",
            "11\n"
          ]
        }
      ],
      "source": [
        "for i in range(1,51,2):\n",
        "    if i==13:\n",
        "        break\n",
        "    else:\n",
        "        print(i)"
      ]
    }
  ],
  "metadata": {
    "colab": {
      "provenance": []
    },
    "kernelspec": {
      "display_name": "Python [conda env:base] *",
      "language": "python",
      "name": "conda-base-py"
    },
    "language_info": {
      "codemirror_mode": {
        "name": "ipython",
        "version": 3
      },
      "file_extension": ".py",
      "mimetype": "text/x-python",
      "name": "python",
      "nbconvert_exporter": "python",
      "pygments_lexer": "ipython3",
      "version": "3.12.7"
    }
  },
  "nbformat": 4,
  "nbformat_minor": 5
}